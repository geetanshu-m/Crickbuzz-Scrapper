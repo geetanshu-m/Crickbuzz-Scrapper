{
 "cells": [
  {
   "cell_type": "code",
   "execution_count": 1,
   "metadata": {},
   "outputs": [],
   "source": [
    "import pandas as pd\n",
    "import numpy as np\n",
    "import requests\n",
    "from bs4 import BeautifulSoup\n",
    "from tqdm import tqdm"
   ]
  },
  {
   "cell_type": "code",
   "execution_count": 2,
   "metadata": {},
   "outputs": [],
   "source": [
    "parent_df = pd.DataFrame({\n",
    "        'id' : [],\n",
    "        'commentry_loc' : [],\n",
    "        'summary_loc' : [],\n",
    "        'series' : [],\n",
    "        'venue' : [],\n",
    "        'date' : []\n",
    "    })\n",
    "# Data Folders\n",
    "summary = \"summary/\"      # Stores associated text file\n",
    "commenty = \"commentry/\"   # Stores associated commentry ball wise "
   ]
  },
  {
   "cell_type": "code",
   "execution_count": 3,
   "metadata": {},
   "outputs": [],
   "source": [
    "match_id_list = [18875,18873,18874,18876]\n",
    "#match_id_list = range(18850,18852)"
   ]
  },
  {
   "cell_type": "code",
   "execution_count": 4,
   "metadata": {},
   "outputs": [],
   "source": [
    "def get_soup(url):\n",
    "    return BeautifulSoup(requests.get(url).text)"
   ]
  },
  {
   "cell_type": "code",
   "execution_count": 5,
   "metadata": {},
   "outputs": [],
   "source": [
    "def get_url(no):\n",
    "    cs = \"https://www.cricbuzz.com/cricket-scores/\"+str(no)\n",
    "    return cs"
   ]
  },
  {
   "cell_type": "code",
   "execution_count": 6,
   "metadata": {},
   "outputs": [],
   "source": [
    "def get_commentry(soup):\n",
    "    posts = []\n",
    "    for wrapper in soup.find_all('p', {\"class\":\"cb-col cb-col-90 cb-com-ln\"}):\n",
    "        posts.append(wrapper.text)\n",
    "    balls = []\n",
    "    for wrapper in soup.find_all('span', {\"class\":\"cb-col cb-col-8 text-bold\"}):\n",
    "        balls.append(wrapper.text)\n",
    "    df = pd.DataFrame({\n",
    "            'balls':balls,\n",
    "            'comment':posts\n",
    "        })\n",
    "    return df"
   ]
  },
  {
   "cell_type": "code",
   "execution_count": 7,
   "metadata": {},
   "outputs": [],
   "source": [
    "def get_summary(soup):\n",
    "    post = []\n",
    "    for wrapper in soup.find_all('p', {\"class\":\"cb-col cb-col-100 cb-com-ln\"}):\n",
    "        post.append(wrapper.text)\n",
    "    return post\n",
    "    ' '.join.post\n",
    "    return post"
   ]
  },
  {
   "cell_type": "code",
   "execution_count": 8,
   "metadata": {},
   "outputs": [],
   "source": [
    "def get_additional_data(soup):\n",
    "    try:\n",
    "        series = soup.find_all('span', {\"class\":\"text-hvr-underline text-gray\"})\n",
    "        s = series[0].text\n",
    "        v = series[1].text\n",
    "        date = soup.find('span', {\"itemprop\":\"startDate\"}).text\n",
    "        return s,v,date\n",
    "    except:\n",
    "        return 0,0,0"
   ]
  },
  {
   "cell_type": "code",
   "execution_count": 9,
   "metadata": {},
   "outputs": [],
   "source": [
    "def add_new_entry(match_id,k,commentry_df,soup):\n",
    "    global parent_df\n",
    "    ids = str(match_id)\n",
    "    com = commenty+ids+\".csv\"\n",
    "    sume = summary+ids+\".txt\"\n",
    "    commentry_df.to_csv(com, index=False)\n",
    "    file = open(sume, 'w')\n",
    "    file.write(k)\n",
    "    file.close()\n",
    "    series,venue,date = get_additional_data(soup)\n",
    "    new_entry = pd.DataFrame({\n",
    "        'id' : [ids],\n",
    "        'commentry_loc' : [com],\n",
    "        'summary_loc' : [str(sume)],\n",
    "        'series' : [series],\n",
    "        'venue' : [venue],\n",
    "        'date' : [date]\n",
    "    })\n",
    "    parent_df = pd.concat([parent_df,new_entry],axis=0)"
   ]
  },
  {
   "cell_type": "code",
   "execution_count": 10,
   "metadata": {},
   "outputs": [],
   "source": [
    "def init_main():\n",
    "    global match_id_list\n",
    "    for i in tqdm(match_id_list):\n",
    "        try:\n",
    "            url = get_url(i)\n",
    "            soup = get_soup(url)\n",
    "            k = get_summary(soup)\n",
    "            k = ' '.join(k)\n",
    "            commentry_df = get_commentry(soup)\n",
    "            add_new_entry(i,k,commentry_df,soup)\n",
    "        except:\n",
    "            print(i,\"Not Scrapped..!!\")"
   ]
  },
  {
   "cell_type": "code",
   "execution_count": 11,
   "metadata": {},
   "outputs": [
    {
     "name": "stderr",
     "output_type": "stream",
     "text": [
      " 25%|██▌       | 1/4 [00:02<00:08,  2.86s/it]"
     ]
    },
    {
     "name": "stdout",
     "output_type": "stream",
     "text": [
      "      id        commentry_loc        summary_loc  \\\n",
      "0  18875  commentry/18875.csv  summary/18875.txt   \n",
      "\n",
      "                            series                     venue  \\\n",
      "0  Australia tour of England, 2018  Old Trafford, Manchester   \n",
      "\n",
      "                      date  \n",
      "0  Jun 24, 11:00 AM LOCAL   \n"
     ]
    },
    {
     "name": "stderr",
     "output_type": "stream",
     "text": [
      "\r",
      " 50%|█████     | 2/4 [00:05<00:05,  2.67s/it]"
     ]
    },
    {
     "name": "stdout",
     "output_type": "stream",
     "text": [
      "      id        commentry_loc        summary_loc  \\\n",
      "0  18873  commentry/18873.csv  summary/18873.txt   \n",
      "\n",
      "                            series                     venue  \\\n",
      "0  Australia tour of England, 2018  Trent Bridge, Nottingham   \n",
      "\n",
      "                      date  \n",
      "0  Jun 19, 02:00 PM LOCAL   \n"
     ]
    },
    {
     "name": "stderr",
     "output_type": "stream",
     "text": [
      "\r",
      " 75%|███████▌  | 3/4 [00:07<00:02,  2.60s/it]"
     ]
    },
    {
     "name": "stdout",
     "output_type": "stream",
     "text": [
      "      id        commentry_loc        summary_loc  \\\n",
      "0  18874  commentry/18874.csv  summary/18874.txt   \n",
      "\n",
      "                            series                                venue  \\\n",
      "0  Australia tour of England, 2018  Riverside Ground, Chester-le-Street   \n",
      "\n",
      "                      date  \n",
      "0  Jun 21, 02:00 PM LOCAL   \n"
     ]
    },
    {
     "name": "stderr",
     "output_type": "stream",
     "text": [
      "\r",
      "100%|██████████| 4/4 [00:09<00:00,  2.34s/it]"
     ]
    },
    {
     "name": "stdout",
     "output_type": "stream",
     "text": [
      "      id        commentry_loc        summary_loc  \\\n",
      "0  18876  commentry/18876.csv  summary/18876.txt   \n",
      "\n",
      "                            series                  venue  \\\n",
      "0  Australia tour of England, 2018  Edgbaston, Birmingham   \n",
      "\n",
      "                      date  \n",
      "0  Jun 27, 06:30 PM LOCAL   \n"
     ]
    },
    {
     "name": "stderr",
     "output_type": "stream",
     "text": [
      "\n"
     ]
    }
   ],
   "source": [
    "init_main()"
   ]
  },
  {
   "cell_type": "code",
   "execution_count": 12,
   "metadata": {},
   "outputs": [
    {
     "data": {
      "text/html": [
       "<div>\n",
       "<style scoped>\n",
       "    .dataframe tbody tr th:only-of-type {\n",
       "        vertical-align: middle;\n",
       "    }\n",
       "\n",
       "    .dataframe tbody tr th {\n",
       "        vertical-align: top;\n",
       "    }\n",
       "\n",
       "    .dataframe thead th {\n",
       "        text-align: right;\n",
       "    }\n",
       "</style>\n",
       "<table border=\"1\" class=\"dataframe\">\n",
       "  <thead>\n",
       "    <tr style=\"text-align: right;\">\n",
       "      <th></th>\n",
       "      <th>id</th>\n",
       "      <th>commentry_loc</th>\n",
       "      <th>summary_loc</th>\n",
       "      <th>series</th>\n",
       "      <th>venue</th>\n",
       "      <th>date</th>\n",
       "    </tr>\n",
       "  </thead>\n",
       "  <tbody>\n",
       "    <tr>\n",
       "      <th>0</th>\n",
       "      <td>18875</td>\n",
       "      <td>commentry/18875.csv</td>\n",
       "      <td>summary/18875.txt</td>\n",
       "      <td>Australia tour of England, 2018</td>\n",
       "      <td>Old Trafford, Manchester</td>\n",
       "      <td>Jun 24, 11:00 AM LOCAL</td>\n",
       "    </tr>\n",
       "    <tr>\n",
       "      <th>0</th>\n",
       "      <td>18873</td>\n",
       "      <td>commentry/18873.csv</td>\n",
       "      <td>summary/18873.txt</td>\n",
       "      <td>Australia tour of England, 2018</td>\n",
       "      <td>Trent Bridge, Nottingham</td>\n",
       "      <td>Jun 19, 02:00 PM LOCAL</td>\n",
       "    </tr>\n",
       "    <tr>\n",
       "      <th>0</th>\n",
       "      <td>18874</td>\n",
       "      <td>commentry/18874.csv</td>\n",
       "      <td>summary/18874.txt</td>\n",
       "      <td>Australia tour of England, 2018</td>\n",
       "      <td>Riverside Ground, Chester-le-Street</td>\n",
       "      <td>Jun 21, 02:00 PM LOCAL</td>\n",
       "    </tr>\n",
       "    <tr>\n",
       "      <th>0</th>\n",
       "      <td>18876</td>\n",
       "      <td>commentry/18876.csv</td>\n",
       "      <td>summary/18876.txt</td>\n",
       "      <td>Australia tour of England, 2018</td>\n",
       "      <td>Edgbaston, Birmingham</td>\n",
       "      <td>Jun 27, 06:30 PM LOCAL</td>\n",
       "    </tr>\n",
       "  </tbody>\n",
       "</table>\n",
       "</div>"
      ],
      "text/plain": [
       "      id        commentry_loc        summary_loc  \\\n",
       "0  18875  commentry/18875.csv  summary/18875.txt   \n",
       "0  18873  commentry/18873.csv  summary/18873.txt   \n",
       "0  18874  commentry/18874.csv  summary/18874.txt   \n",
       "0  18876  commentry/18876.csv  summary/18876.txt   \n",
       "\n",
       "                            series                                venue  \\\n",
       "0  Australia tour of England, 2018             Old Trafford, Manchester   \n",
       "0  Australia tour of England, 2018             Trent Bridge, Nottingham   \n",
       "0  Australia tour of England, 2018  Riverside Ground, Chester-le-Street   \n",
       "0  Australia tour of England, 2018                Edgbaston, Birmingham   \n",
       "\n",
       "                      date  \n",
       "0  Jun 24, 11:00 AM LOCAL   \n",
       "0  Jun 19, 02:00 PM LOCAL   \n",
       "0  Jun 21, 02:00 PM LOCAL   \n",
       "0  Jun 27, 06:30 PM LOCAL   "
      ]
     },
     "execution_count": 12,
     "metadata": {},
     "output_type": "execute_result"
    }
   ],
   "source": [
    "parent_df.to_csv(\"main_assoc.csv\",index=False)"
   ]
  },
  {
   "cell_type": "code",
   "execution_count": null,
   "metadata": {},
   "outputs": [],
   "source": [
    "parent_df"
   ]
  }
 ],
 "metadata": {
  "kernelspec": {
   "display_name": "Python 3",
   "language": "python",
   "name": "python3"
  },
  "language_info": {
   "codemirror_mode": {
    "name": "ipython",
    "version": 3
   },
   "file_extension": ".py",
   "mimetype": "text/x-python",
   "name": "python",
   "nbconvert_exporter": "python",
   "pygments_lexer": "ipython3",
   "version": "3.6.5"
  }
 },
 "nbformat": 4,
 "nbformat_minor": 2
}
